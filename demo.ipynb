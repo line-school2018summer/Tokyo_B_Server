{
 "cells": [
  {
   "cell_type": "code",
   "execution_count": 2,
   "metadata": {},
   "outputs": [],
   "source": [
    "import requests, pprint, json\n",
    "\n",
    "#url = \"http://127.0.0.1:5000\"\n",
    "url = \"http://ec2-user@ec2-54-95-200-122.ap-northeast-1.compute.amazonaws.com\""
   ]
  },
  {
   "cell_type": "code",
   "execution_count": 3,
   "metadata": {
    "scrolled": true
   },
   "outputs": [
    {
     "name": "stdout",
     "output_type": "stream",
     "text": [
      "{'content': {'verify_id': 1}, 'error': 0}\n"
     ]
    }
   ],
   "source": [
    "obj = {\"target\": \"account/register/register\",\n",
    "\"authenticated\": 0,\n",
    "\"user_id\": \"firstuser1\",\n",
    "\"name\": \"nagata\",\n",
    "\"email\": \"demodethyoh@gmail.com\",\n",
    "\"password\": \"passw0rd\",\n",
    "\"password_confirm\": \"passw0rd\"\n",
    " }\n",
    "response = requests.post(url+\"/account/register/register\", json.dumps(obj), headers = {'Content-Type': 'application/json'})\n",
    "verify_id = response.json()[\"content\"][\"verify_id\"]\n",
    "pprint.pprint(response.json())"
   ]
  },
  {
   "cell_type": "code",
   "execution_count": 4,
   "metadata": {},
   "outputs": [
    {
     "name": "stdout",
     "output_type": "stream",
     "text": [
      "{'content': {'logged_id': 2,\n",
      "             'logged_name': 'nagata',\n",
      "             'logged_user_id': 'firstuser1',\n",
      "             'message': 'successful registration',\n",
      "             'token': '95f5ae52a70f9ada38f12f547d19ea5fc2dbfeeefd0466409dd15b8ce67b2363'},\n",
      " 'error': 0}\n"
     ]
    }
   ],
   "source": [
    "obj = {\"target\": \"account/register/verify\",\n",
    "\"authenticated\": 0,\n",
    "\"verify_id\": verify_id,\n",
    "\"code\": \"9665\"\n",
    "      }\n",
    "response = requests.post(url+\"/account/register/verify\", json.dumps(obj), headers={'Content-Type': 'application/json'})\n",
    "pprint.pprint(response.json())\n",
    "token1 = response.json()[\"content\"][\"token\"]"
   ]
  },
  {
   "cell_type": "code",
   "execution_count": 5,
   "metadata": {},
   "outputs": [
    {
     "name": "stdout",
     "output_type": "stream",
     "text": [
      "{'content': {'verify_id': 1}, 'error': 0}\n"
     ]
    }
   ],
   "source": [
    "obj = {\"target\": \"account/register/register\",\n",
    "\"authenticated\": 0,\n",
    "\"user_id\": \"seconduser2\",\n",
    "\"name\": \"yamato\",\n",
    "\"email\": \"demodethyoh@gmail.com\",\n",
    "\"password\": \"passw0rd\",\n",
    "\"password_confirm\": \"passw0rd\"\n",
    " }\n",
    "response = requests.post(url+\"/account/register/register\", json.dumps(obj), headers = {'Content-Type': 'application/json'})\n",
    "pprint.pprint(response.json())\n",
    "verify_id = response.json()[\"content\"][\"verify_id\"]"
   ]
  },
  {
   "cell_type": "code",
   "execution_count": 7,
   "metadata": {},
   "outputs": [
    {
     "name": "stdout",
     "output_type": "stream",
     "text": [
      "{'content': {'logged_id': 3,\n",
      "             'logged_name': 'yamato',\n",
      "             'logged_user_id': 'seconduser2',\n",
      "             'message': 'successful registration',\n",
      "             'token': 'f35a3fdfc36aa53dc27d3d3b7532df87670d017b42a2b07049626b105c6c0ecd'},\n",
      " 'error': 0}\n"
     ]
    }
   ],
   "source": [
    "obj = {\"target\": \"account/register/verify\",\n",
    "\"authenticated\": 0,\n",
    "\"verify_id\": verify_id,\n",
    "\"code\": \"2374\"\n",
    "      }\n",
    "response = requests.post(url+\"/account/register/verify\", json.dumps(obj), headers={'Content-Type': 'application/json'})\n",
    "pprint.pprint(response.json())\n",
    "token2 = response.json()[\"content\"][\"token\"]"
   ]
  },
  {
   "cell_type": "code",
   "execution_count": 18,
   "metadata": {},
   "outputs": [
    {
     "name": "stdout",
     "output_type": "stream",
     "text": [
      "{'content': {'verify_id': 1}, 'error': 0}\n"
     ]
    }
   ],
   "source": [
    "obj = {\"target\": \"account/register/register\",\n",
    "\"authenticated\": 0,\n",
    "\"user_id\": \"thirduser3\",\n",
    "\"name\": \"yamyam\",\n",
    "\"email\": \"demodethyoh@gmail.com\",\n",
    "\"password\": \"passw0rd\",\n",
    "\"password_confirm\": \"passw0rd\"\n",
    " }\n",
    "response = requests.post(url+\"/account/register/register\", json.dumps(obj), headers = {'Content-Type': 'application/json'})\n",
    "pprint.pprint(response.json())\n",
    "verify_id = response.json()[\"content\"][\"verify_id\"]"
   ]
  },
  {
   "cell_type": "code",
   "execution_count": 19,
   "metadata": {},
   "outputs": [
    {
     "name": "stdout",
     "output_type": "stream",
     "text": [
      "{'content': {'logged_id': 3,\n",
      "             'logged_user_id': 'thirduser3',\n",
      "             'message': 'successful registration',\n",
      "             'token': 'd8c070ec1d47e1c4f7bb8e2ae19438878aefa5a5ad94789dbaf5af36ac20161b'},\n",
      " 'error': 0}\n"
     ]
    }
   ],
   "source": [
    "obj = {\"target\": \"account/register/verify\",\n",
    "\"authenticated\": 0,\n",
    "\"verify_id\": verify_id,\n",
    "\"code\": \"3615\"\n",
    "      }\n",
    "response = requests.post(url+\"/account/register/verify\", json.dumps(obj), headers={'Content-Type': 'application/json'})\n",
    "pprint.pprint(response.json())\n",
    "token3 = response.json()[\"content\"][\"token\"]"
   ]
  },
  {
   "cell_type": "code",
   "execution_count": 16,
   "metadata": {},
   "outputs": [
    {
     "name": "stdout",
     "output_type": "stream",
     "text": [
      "{'content': {'message': 'added successfully'}, 'error': 0}\n"
     ]
    }
   ],
   "source": [
    "obj = {\"target\": \"/friend/add\",\n",
    "\"authenticated\": 1,\n",
    "\"use_id\": 1,\n",
    "\"id\": 1,\n",
    "\"token\": token1,\n",
    "\"target_id\": 2\n",
    "}\n",
    "response = requests.post(url+\"/friend/add\", json.dumps(obj), headers={'Content-Type': 'application/json'})\n",
    "pprint.pprint(response.json())"
   ]
  },
  {
   "cell_type": "code",
   "execution_count": 17,
   "metadata": {},
   "outputs": [
    {
     "name": "stdout",
     "output_type": "stream",
     "text": [
      "{'content': {'friends': {'2': {'name': 'yamato', 'user_id': 'seconduser2'}},\n",
      "             'message': 'friends_list'},\n",
      " 'error': 0}\n"
     ]
    }
   ],
   "source": [
    "obj = {\"target\": \"/friend/list\",\n",
    "\"authenticated\": 1,\n",
    "\"id\": 1,\n",
    "\"token\": token1\n",
    "}\n",
    "response = requests.post(url+\"/friend/list\", json.dumps(obj), headers={'Content-Type': 'application/json'})\n",
    "pprint.pprint(response.json())"
   ]
  },
  {
   "cell_type": "code",
   "execution_count": 21,
   "metadata": {},
   "outputs": [
    {
     "name": "stdout",
     "output_type": "stream",
     "text": [
      "{'content': {'id': 3, 'name': 'yamyam', 'user_id': 'thirduser3'}, 'error': 0}\n"
     ]
    }
   ],
   "source": [
    "obj = {\"target\": \"/friend/search\",\n",
    "\"authenticated\": 1,\n",
    "\"id\": 1,\n",
    "\"token\": token1,\n",
    "\"content\": {\n",
    "    \"use_id\": 0,\n",
    "    \"target_user_id\": \"thirduser3\"\n",
    "    }\n",
    "}\n",
    "response = requests.post(url+\"/friend/search\", json.dumps(obj), headers={'Content-Type': 'application/json'})\n",
    "pprint.pprint(response.json())"
   ]
  },
  {
   "cell_type": "code",
   "execution_count": 22,
   "metadata": {},
   "outputs": [
    {
     "name": "stdout",
     "output_type": "stream",
     "text": [
      "{'content': {'message': 'added successfully'}, 'error': 0}\n"
     ]
    }
   ],
   "source": [
    "obj = {\"target\": \"/friend/add\",\n",
    "\"authenticated\": 1,\n",
    "\"use_id\": 1,\n",
    "\"id\": 1,\n",
    "\"token\": token1,\n",
    "\"target_id\": 3\n",
    "}\n",
    "response = requests.post(url+\"/friend/add\", json.dumps(obj), headers={'Content-Type': 'application/json'})\n",
    "pprint.pprint(response.json())"
   ]
  },
  {
   "cell_type": "code",
   "execution_count": 23,
   "metadata": {},
   "outputs": [
    {
     "name": "stdout",
     "output_type": "stream",
     "text": [
      "{'content': {'friends': {'2': {'name': 'yamato', 'user_id': 'seconduser2'},\n",
      "                         '3': {'name': 'yamyam', 'user_id': 'thirduser3'}},\n",
      "             'message': 'friends_list'},\n",
      " 'error': 0}\n"
     ]
    }
   ],
   "source": [
    "obj = {\"target\": \"/friend/list\",\n",
    "\"authenticated\": 1,\n",
    "\"id\": 1,\n",
    "\"token\": token1\n",
    "}\n",
    "response = requests.post(url+\"/friend/list\", json.dumps(obj), headers={'Content-Type': 'application/json'})\n",
    "pprint.pprint(response.json())"
   ]
  },
  {
   "cell_type": "code",
   "execution_count": 24,
   "metadata": {},
   "outputs": [
    {
     "name": "stdout",
     "output_type": "stream",
     "text": [
      "{'content': {'message': 'sent successfully', 'talk_id': 1}, 'error': 0}\n"
     ]
    }
   ],
   "source": [
    "obj = {\"target\": \"/chat/make\",\n",
    "\"authenticated\": 1,\n",
    "\"id\": 1,\n",
    "\"token\": token1,\n",
    "\"content\": {\n",
    "    \"group_name\": \"first_group\"\n",
    "    }\n",
    "}\n",
    "response = requests.post(url+\"/chat/make\", json.dumps(obj), headers={'Content-Type': 'application/json'})\n",
    "pprint.pprint(response.json())"
   ]
  },
  {
   "cell_type": "code",
   "execution_count": 26,
   "metadata": {},
   "outputs": [
    {
     "name": "stdout",
     "output_type": "stream",
     "text": [
      "{'content': {'message': 'success'}, 'error': 0}\n"
     ]
    }
   ],
   "source": [
    "obj = {\"target\": \"/chat/join/other\",\n",
    "\"authenticated\": 1,\n",
    "\"id\": 1,\n",
    "\"token\": token1,\n",
    "\"content\": {\n",
    "    \"use_id\": 1,\n",
    "    \"target_user_id\": 2,\n",
    "    \"target_group\": 1\n",
    "    }\n",
    "}\n",
    "response = requests.post(url+\"/chat/join/other\", json.dumps(obj), headers={'Content-Type': 'application/json'})\n",
    "pprint.pprint(response.json())"
   ]
  },
  {
   "cell_type": "code",
   "execution_count": 27,
   "metadata": {},
   "outputs": [
    {
     "name": "stdout",
     "output_type": "stream",
     "text": [
      "{'content': {'1': {'name': 'nagata', 'user_id': 'firstuser1'},\n",
      "             '2': {'name': 'yamato', 'user_id': 'seconduser2'}},\n",
      " 'error': 0}\n"
     ]
    }
   ],
   "source": [
    "obj = {\"target\": \"/chat/member\",\n",
    "\"authenticated\": 1,\n",
    "\"id\": 1,\n",
    "\"token\": token1,\n",
    "\"content\": {\n",
    "    \"target_group\": 1\n",
    "    }\n",
    "}\n",
    "response = requests.post(url+\"/chat/member\", json.dumps(obj), headers={'Content-Type': 'application/json'})\n",
    "pprint.pprint(response.json())"
   ]
  },
  {
   "cell_type": "code",
   "execution_count": 28,
   "metadata": {},
   "outputs": [
    {
     "name": "stdout",
     "output_type": "stream",
     "text": [
      "{'content': {'message': 'sent successfully', 'talk_id': 1}, 'error': 0}\n"
     ]
    }
   ],
   "source": [
    "obj = {\"target\": \"/chat/send\",\n",
    "\"authenticated\": 1,\n",
    "\"id\": 1,\n",
    "\"token\": token1,\n",
    "\"content\": {\n",
    "    \"talk_id\": 1,\n",
    "    \"type\": 1,\n",
    "    \"content\": \"最初のコメント! first text\"\n",
    "    }\n",
    "}\n",
    "response = requests.post(url+\"/chat/send\", json.dumps(obj), headers={'Content-Type': 'application/json'})\n",
    "pprint.pprint(response.json())"
   ]
  },
  {
   "cell_type": "code",
   "execution_count": 30,
   "metadata": {},
   "outputs": [
    {
     "name": "stdout",
     "output_type": "stream",
     "text": [
      "{'content': {'talk': {'1': {'content': {'new': [{'content_content': '最初のコメント! '\n",
      "                                                                    'first '\n",
      "                                                                    'text',\n",
      "                                                 'content_id': 1,\n",
      "                                                 'content_type': 1,\n",
      "                                                 'sent_user_id': 1,\n",
      "                                                 'sent_user_name': 'nagata',\n",
      "                                                 'timestamp': '2018:08:24:08:26:54'}]},\n",
      "                            'name': 'first_group'}}},\n",
      " 'error': 0}\n"
     ]
    }
   ],
   "source": [
    "obj = {\"target\": \"/chat/get\",\n",
    "\"authenticated\": 1,\n",
    "\"id\": 1,\n",
    "\"token\": token1,\n",
    "\"content\": {\n",
    "    \"talk_all_need\": 1,\n",
    "    \"talk_his\": {\n",
    "        }\n",
    "    }\n",
    "}\n",
    "response = requests.post(url+\"/chat/get\", json.dumps(obj), headers={'Content-Type': 'application/json'})\n",
    "pprint.pprint(response.json())"
   ]
  },
  {
   "cell_type": "code",
   "execution_count": 31,
   "metadata": {},
   "outputs": [
    {
     "name": "stdout",
     "output_type": "stream",
     "text": [
      "{'content': {'talk': {'1': {'content': {'new': []}, 'name': 'first_group'}}},\n",
      " 'error': 0}\n"
     ]
    }
   ],
   "source": [
    "obj = {\"target\": \"/chat/get\",\n",
    "\"authenticated\": 1,\n",
    "\"id\": 1,\n",
    "\"token\": token1,\n",
    "\"content\": {\n",
    "    \"talk_all_need\": 1,\n",
    "    \"talk_his\": {\n",
    "        \"1\": 1\n",
    "        }\n",
    "    }\n",
    "}\n",
    "response = requests.post(url+\"/chat/get\", json.dumps(obj), headers={'Content-Type': 'application/json'})\n",
    "pprint.pprint(response.json())"
   ]
  },
  {
   "cell_type": "code",
   "execution_count": 32,
   "metadata": {},
   "outputs": [
    {
     "name": "stdout",
     "output_type": "stream",
     "text": [
      "{'content': {'message': 'sent successfully', 'talk_id': 1}, 'error': 0}\n"
     ]
    }
   ],
   "source": [
    "obj = {\"target\": \"/chat/send\",\n",
    "\"authenticated\": 1,\n",
    "\"id\": 2,\n",
    "\"token\": token2,\n",
    "\"content\": {\n",
    "    \"talk_id\": 1,\n",
    "    \"type\": 1,\n",
    "    \"content\": \"Pythonとかいう幼稚な言語www\"\n",
    "    }\n",
    "}\n",
    "response = requests.post(url+\"/chat/send\", json.dumps(obj), headers={'Content-Type': 'application/json'})\n",
    "pprint.pprint(response.json())"
   ]
  },
  {
   "cell_type": "code",
   "execution_count": 33,
   "metadata": {},
   "outputs": [
    {
     "name": "stdout",
     "output_type": "stream",
     "text": [
      "{'content': {'talk': {'1': {'content': {'new': [{'content_content': 'Pythonとかいう幼稚な言語www',\n",
      "                                                 'content_id': 2,\n",
      "                                                 'content_type': 1,\n",
      "                                                 'sent_user_id': 2,\n",
      "                                                 'sent_user_name': 'yamato',\n",
      "                                                 'timestamp': '2018:08:24:08:31:11'}]},\n",
      "                            'name': 'first_group'}}},\n",
      " 'error': 0}\n"
     ]
    }
   ],
   "source": [
    "obj = {\"target\": \"/chat/get\",\n",
    "\"authenticated\": 1,\n",
    "\"id\": 1,\n",
    "\"token\": token1,\n",
    "\"content\": {\n",
    "    \"talk_all_need\": 1,\n",
    "    \"talk_his\": {\n",
    "        \"1\": 1\n",
    "        }\n",
    "    }\n",
    "}\n",
    "response = requests.post(url+\"/chat/get\", json.dumps(obj), headers={'Content-Type': 'application/json'})\n",
    "pprint.pprint(response.json())"
   ]
  },
  {
   "cell_type": "code",
   "execution_count": 37,
   "metadata": {},
   "outputs": [
    {
     "name": "stdout",
     "output_type": "stream",
     "text": [
      "{'content': {'message': 'success'}, 'error': 0}\n"
     ]
    }
   ],
   "source": [
    "obj = {\"target\": \"/chat/join/other\",\n",
    "\"authenticated\": 1,\n",
    "\"id\": 1,\n",
    "\"token\": token1,\n",
    "\"content\": {\n",
    "    \"use_id\": 1,\n",
    "    \"target_user_id\": 2,\n",
    "    \"target_group\": 1\n",
    "    }\n",
    "}\n",
    "response = requests.post(url+\"/chat/leave/other\", json.dumps(obj), headers={'Content-Type': 'application/json'})\n",
    "pprint.pprint(response.json())"
   ]
  },
  {
   "cell_type": "code",
   "execution_count": 38,
   "metadata": {},
   "outputs": [
    {
     "name": "stdout",
     "output_type": "stream",
     "text": [
      "{'content': {'1': {'name': 'nagata', 'user_id': 'firstuser1'}}, 'error': 0}\n"
     ]
    }
   ],
   "source": [
    "obj = {\"target\": \"/chat/member\",\n",
    "\"authenticated\": 1,\n",
    "\"id\": 1,\n",
    "\"token\": token1,\n",
    "\"content\": {\n",
    "    \"target_group\": 1\n",
    "    }\n",
    "}\n",
    "response = requests.post(url+\"/chat/member\", json.dumps(obj), headers={'Content-Type': 'application/json'})\n",
    "pprint.pprint(response.json())"
   ]
  },
  {
   "cell_type": "code",
   "execution_count": 39,
   "metadata": {},
   "outputs": [
    {
     "name": "stdout",
     "output_type": "stream",
     "text": [
      "{'content': {'invalid_group_id': 0,\n",
      "             'invalid_verify': 0,\n",
      "             'not_authenticated': 0,\n",
      "             'user_not_joined': 1},\n",
      " 'error': 1}\n"
     ]
    }
   ],
   "source": [
    "obj = {\"target\": \"/chat/member\",\n",
    "\"authenticated\": 1,\n",
    "\"id\": 2,\n",
    "\"token\": token2,\n",
    "\"content\": {\n",
    "    \"target_group\": 1\n",
    "    }\n",
    "}\n",
    "response = requests.post(url+\"/chat/member\", json.dumps(obj), headers={'Content-Type': 'application/json'})\n",
    "pprint.pprint(response.json())"
   ]
  },
  {
   "cell_type": "code",
   "execution_count": 40,
   "metadata": {},
   "outputs": [
    {
     "name": "stdout",
     "output_type": "stream",
     "text": [
      "{'content': {'message': 'logged out successfully'}, 'error': 0}\n"
     ]
    }
   ],
   "source": [
    "obj = {\"target\": \"/account/logout\", \n",
    "\"authenticated\": 1,\n",
    "\"id\": 2,\n",
    "\"token\": token2\n",
    "      }\n",
    "response = requests.post(url+\"/account/logout\", json.dumps(obj), headers={'Content-Type': 'application/json'})\n",
    "pprint.pprint(response.json())"
   ]
  },
  {
   "cell_type": "code",
   "execution_count": 43,
   "metadata": {},
   "outputs": [
    {
     "name": "stdout",
     "output_type": "stream",
     "text": [
      "{'content': {'invalid_talk_id': 0,\n",
      "             'invalid_verify': 1,\n",
      "             'meaningless_text': 0,\n",
      "             'not_authenticated': 1,\n",
      "             'not_join': 1,\n",
      "             'too_long_text': 0},\n",
      " 'error': 1}\n"
     ]
    }
   ],
   "source": [
    "obj = {\"target\": \"/chat/send\",\n",
    "\"authenticated\": 0,\n",
    "\"id\": 2,\n",
    "\"token\": token2,\n",
    "\"content\": {\n",
    "    \"talk_id\": 1,\n",
    "    \"type\": 1,\n",
    "    \"content\": \"Python <<<<<<<<<< Kotlin\"\n",
    "    }\n",
    "}\n",
    "response = requests.post(url+\"/chat/send\", json.dumps(obj), headers={'Content-Type': 'application/json'})\n",
    "pprint.pprint(response.json())"
   ]
  },
  {
   "cell_type": "code",
   "execution_count": 45,
   "metadata": {},
   "outputs": [
    {
     "name": "stdout",
     "output_type": "stream",
     "text": [
      "{'content': {'logged_id': 2,\n",
      "             'logged_name': 'yamato',\n",
      "             'logged_user_id': 'seconduser2',\n",
      "             'message': 'logged in successfully',\n",
      "             'token': '6126a277ca6aba0f571601561e62a0345fbc8c3db30e2951965782beca601853'},\n",
      " 'error': 0}\n"
     ]
    }
   ],
   "source": [
    "obj = {\"target\": \"/account/login\", \n",
    "\"authenticated\": 0,\n",
    "\"user_id\": \"seconduser2\",\n",
    "\"password\": \"passw0rd\"\n",
    "      }\n",
    "response = requests.post(url+\"/account/login\", json.dumps(obj), headers={'Content-Type': 'application/json'})\n",
    "pprint.pprint(response.json())"
   ]
  },
  {
   "cell_type": "code",
   "execution_count": null,
   "metadata": {
    "collapsed": true
   },
   "outputs": [],
   "source": []
  }
 ],
 "metadata": {
  "kernelspec": {
   "display_name": "Python 3",
   "language": "python",
   "name": "python3"
  },
  "language_info": {
   "codemirror_mode": {
    "name": "ipython",
    "version": 3
   },
   "file_extension": ".py",
   "mimetype": "text/x-python",
   "name": "python",
   "nbconvert_exporter": "python",
   "pygments_lexer": "ipython3",
   "version": "3.6.5"
  }
 },
 "nbformat": 4,
 "nbformat_minor": 2
}
